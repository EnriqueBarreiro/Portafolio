{
  "cells": [
    {
      "cell_type": "markdown",
      "metadata": {
        "id": "VFj0sSM06dYa"
      },
      "source": [
        "Dimensionality Reduction - Singular Value Decomposition (SVD) and Recommendation Systems\n",
        "\n",
        "made by Enrique Barreiro Limón\n",
        "\n",
        "---\n"
      ]
    },
    {
      "cell_type": "code",
      "execution_count": 1,
      "metadata": {
        "id": "exXsscs-Dh-2"
      },
      "outputs": [],
      "source": [
        "# Incluimos todas las librería que consideramos necesarias para el proyecto\n",
        "\n",
        "import numpy as np\n",
        "import pandas as pd\n",
        "from sklearn.decomposition import TruncatedSVD\n",
        "from sklearn.preprocessing import OneHotEncoder\n",
        "from sklearn.metrics.pairwise import cosine_similarity\n"
      ]
    },
    {
      "cell_type": "code",
      "execution_count": 2,
      "metadata": {
        "colab": {
          "base_uri": "https://localhost:8080/"
        },
        "id": "3nU2GuWYCy6C",
        "outputId": "da41e06a-51a3-4f6a-eecb-49bb136bb422"
      },
      "outputs": [
        {
          "name": "stdout",
          "output_type": "stream",
          "text": [
            "(1161, 5) (130, 21)\n"
          ]
        }
      ],
      "source": [
        "# Descargamos los archivos de la página de la UCI a partir de los cuales generaremos\n",
        "# nuestras matrices de utilidad.\n",
        "\n",
        "data_rating = pd.read_csv(\"rating_final.csv\", header='infer', sep=\",\")\n",
        "data_geo = pd.read_csv(\"geoplaces2.csv\", header='infer',  encoding='latin-1')\n",
        "\n",
        "print(data_rating.shape, data_geo.shape)"
      ]
    },
    {
      "cell_type": "markdown",
      "metadata": {
        "id": "9ejOXFX0wRbr"
      },
      "source": [
        "### **Ejercicio 1**"
      ]
    },
    {
      "cell_type": "markdown",
      "metadata": {
        "id": "SXZCu8d24qhg"
      },
      "source": [
        "Explica cuál es el propósito de usar el argumento \"latin-1\" al cargar el segundo archivo."
      ]
    },
    {
      "cell_type": "markdown",
      "metadata": {},
      "source": [
        "El propósito de usar encoding='latin-1' es evitar problemas de decodificación y asegurar que todos los caracteres se interpreten correctamente al leer \"geoplaces2.csv\".\n",
        "\n",
        "Principales motivos:\n",
        "- El archivo geoplaces2.csv podría contener caracteres especiales o acentos propios del español u otros idiomas que no son compatibles con la codificación predeterminada (utf-8).\n",
        "- latin-1 (ISO-8859-1) es una codificación que incluye caracteres como á, é, í, ó, ú, ñ, entre otros.\n",
        "- Si el archivo tiene caracteres que no son compatibles con utf-8, el usar latin-1 permite cargar el archivo sin que ocurra el UnicodeDecodeError."
      ]
    },
    {
      "cell_type": "markdown",
      "metadata": {
        "id": "DbEshKJnwPp3"
      },
      "source": [
        "### **Ejercicio 2**"
      ]
    },
    {
      "cell_type": "markdown",
      "metadata": {
        "id": "0M4bdUWEDPt2"
      },
      "source": [
        "Cada restaurante debe tener un nombre diferente:"
      ]
    },
    {
      "cell_type": "code",
      "execution_count": 3,
      "metadata": {},
      "outputs": [
        {
          "name": "stdout",
          "output_type": "stream",
          "text": [
            "Index(['placeID', 'latitude', 'longitude', 'the_geom_meter', 'name', 'address',\n",
            "       'city', 'state', 'country', 'fax', 'zip', 'alcohol', 'smoking_area',\n",
            "       'dress_code', 'accessibility', 'price', 'url', 'Rambience', 'franchise',\n",
            "       'area', 'other_services'],\n",
            "      dtype='object')\n"
          ]
        }
      ],
      "source": [
        "# Mostramos los nombres de las columnas en data_geo\n",
        "print(data_geo.columns)"
      ]
    },
    {
      "cell_type": "code",
      "execution_count": 4,
      "metadata": {
        "id": "gmt8o2u8wcDm"
      },
      "outputs": [
        {
          "data": {
            "text/html": [
              "<div>\n",
              "<style scoped>\n",
              "    .dataframe tbody tr th:only-of-type {\n",
              "        vertical-align: middle;\n",
              "    }\n",
              "\n",
              "    .dataframe tbody tr th {\n",
              "        vertical-align: top;\n",
              "    }\n",
              "\n",
              "    .dataframe thead th {\n",
              "        text-align: right;\n",
              "    }\n",
              "</style>\n",
              "<table border=\"1\" class=\"dataframe\">\n",
              "  <thead>\n",
              "    <tr style=\"text-align: right;\">\n",
              "      <th></th>\n",
              "      <th>name</th>\n",
              "      <th>city</th>\n",
              "    </tr>\n",
              "  </thead>\n",
              "  <tbody>\n",
              "    <tr>\n",
              "      <th>0</th>\n",
              "      <td>Kiku Cuernavaca</td>\n",
              "      <td>Cuernavaca</td>\n",
              "    </tr>\n",
              "    <tr>\n",
              "      <th>2</th>\n",
              "      <td>El Rincón de San Francisco</td>\n",
              "      <td>San Luis Potosi</td>\n",
              "    </tr>\n",
              "    <tr>\n",
              "      <th>4</th>\n",
              "      <td>carnitas_mata</td>\n",
              "      <td>victoria</td>\n",
              "    </tr>\n",
              "    <tr>\n",
              "      <th>5</th>\n",
              "      <td>Restaurant los Compadres</td>\n",
              "      <td>San Luis Potosi</td>\n",
              "    </tr>\n",
              "    <tr>\n",
              "      <th>6</th>\n",
              "      <td>Taqueria EL amigo</td>\n",
              "      <td>Cd Victoria</td>\n",
              "    </tr>\n",
              "    <tr>\n",
              "      <th>...</th>\n",
              "      <td>...</td>\n",
              "      <td>...</td>\n",
              "    </tr>\n",
              "    <tr>\n",
              "      <th>121</th>\n",
              "      <td>Tortas Locas Hipocampo</td>\n",
              "      <td>San Luis Potosi</td>\n",
              "    </tr>\n",
              "    <tr>\n",
              "      <th>124</th>\n",
              "      <td>McDonalds Centro</td>\n",
              "      <td>Cuernavaca</td>\n",
              "    </tr>\n",
              "    <tr>\n",
              "      <th>125</th>\n",
              "      <td>Chaires</td>\n",
              "      <td>San Luis Potosi</td>\n",
              "    </tr>\n",
              "    <tr>\n",
              "      <th>126</th>\n",
              "      <td>Sushi Itto</td>\n",
              "      <td>San Luis Potosi</td>\n",
              "    </tr>\n",
              "    <tr>\n",
              "      <th>128</th>\n",
              "      <td>Restaurant Bar Coty y Pablo</td>\n",
              "      <td>Jiutepec</td>\n",
              "    </tr>\n",
              "  </tbody>\n",
              "</table>\n",
              "<p>89 rows × 2 columns</p>\n",
              "</div>"
            ],
            "text/plain": [
              "                            name             city\n",
              "0                Kiku Cuernavaca       Cuernavaca\n",
              "2     El Rincón de San Francisco  San Luis Potosi\n",
              "4                  carnitas_mata         victoria\n",
              "5       Restaurant los Compadres  San Luis Potosi\n",
              "6             Taqueria EL amigo       Cd Victoria\n",
              "..                           ...              ...\n",
              "121       Tortas Locas Hipocampo  San Luis Potosi\n",
              "124             McDonalds Centro       Cuernavaca\n",
              "125                      Chaires  San Luis Potosi\n",
              "126                   Sushi Itto  San Luis Potosi\n",
              "128  Restaurant Bar Coty y Pablo         Jiutepec\n",
              "\n",
              "[89 rows x 2 columns]"
            ]
          },
          "execution_count": 4,
          "metadata": {},
          "output_type": "execute_result"
        }
      ],
      "source": [
        "# Filtramos solo los restaurantes ubicados en México\n",
        "restaurants_mexico = data_geo[data_geo['country'] == 'Mexico']\n",
        "\n",
        "# Mostramos la lista de restaurantes únicos en México\n",
        "restaurants_mexico[['name', 'city']]"
      ]
    },
    {
      "cell_type": "markdown",
      "metadata": {
        "id": "_TPm5DHjwTMg"
      },
      "source": [
        "* Todos los restaurantes que aparecen en esta lista son negocios diferentes, en el sentido de que físicamente están ubicados en diferentes ciudades de México, aunque algunos pertenezcan a una franquicia, como Vips.\n",
        "\n",
        "* Para los fines de este ejercicio, estaremos considerando a todos los restaurantes como diferentes. Sin embargo, en el caso de Vips, existen tres restaurantes en esta lista capturados con los nombres: VIPS, Vips y vips. Que por sus coordenadas de latitud y longitud sabemos que están ubicados en SLP, Cuernavaca y cdVictoria. Se podrían cambiar los nombres agregando la ciudad, pero como se capturaron los nombres de manera diferente con minúsculas y mayúsculas, los dejaremos por el momento de esta manera.\n",
        "\n",
        "* Por el momento no estaremos haciendo las recomendaciones por el lugar donde se encuentran, sino solamente por la evaluación del restaurante y otras características que no tienen que ver con la ubicación.\n",
        "\n",
        "* Existen otras franquicias capturadas también de manera diferente, salvo el caso de 'Gorditas Dona Tota', en el cual dos de estos restaurantes que están ubicados en Cd.Victoria fueron registrados exactamente con el mismo nombre. Para que nuestro sistema de recomendación pueda diferenciarlos, deberás cambiar el nombre de uno de ellos como se te indica a continuación.  "
      ]
    },
    {
      "cell_type": "markdown",
      "metadata": {
        "id": "RYe-1NVb7Rts"
      },
      "source": [
        "De los dos restaurantes registrados con el nombre de 'Gorditas Dona Tota', encuentra sus índices y cambia el que tiene el mayor índice en data_geo[name] al de  'Gorditas Dona Tota 2'"
      ]
    },
    {
      "cell_type": "code",
      "execution_count": 5,
      "metadata": {},
      "outputs": [
        {
          "name": "stdout",
          "output_type": "stream",
          "text": [
            "                   name          city\n",
            "89   Gorditas Dona Tota  Cd. Victoria\n",
            "118  Gorditas Dona Tota             ?\n"
          ]
        }
      ],
      "source": [
        "# Verificamos todas las variaciones del nombre 'Gorditas Dona Tota'\n",
        "print(data_geo[data_geo['name'].str.contains('Gorditas Dona Tota', case=False, na=False)][['name', 'city']])"
      ]
    },
    {
      "cell_type": "code",
      "execution_count": 6,
      "metadata": {},
      "outputs": [
        {
          "name": "stdout",
          "output_type": "stream",
          "text": [
            "Verificando el cambio de nombre:\n",
            "                      name          city\n",
            "89     Gorditas Dona Tota  Cd. Victoria\n",
            "118  Gorditas Dona Tota 2             ?\n"
          ]
        }
      ],
      "source": [
        "# Encontramos los índices de los restaurantes con el nombre 'Gorditas Dona Tota'\n",
        "indices_Dona_Tota = data_geo[data_geo['name'] == 'Gorditas Dona Tota'].index\n",
        "\n",
        "# Si hay más de un registro, cambiamos el nombre del de mayor índice\n",
        "if len(indices_Dona_Tota) > 1:\n",
        "    data_geo.loc[indices_Dona_Tota.max(), 'name'] = 'Gorditas Dona Tota 2'\n",
        "\n",
        "# Verificamos el cambio de nombre\n",
        "print('Verificando el cambio de nombre:\\n', data_geo.loc[indices_Dona_Tota, ['name', 'city']])"
      ]
    },
    {
      "cell_type": "markdown",
      "metadata": {
        "id": "rr3hJTCW6c05"
      },
      "source": [
        "### **Ejercicio 3**"
      ]
    },
    {
      "cell_type": "code",
      "execution_count": 7,
      "metadata": {
        "id": "0ulkqXVGCy97"
      },
      "outputs": [
        {
          "data": {
            "text/html": [
              "<div>\n",
              "<style scoped>\n",
              "    .dataframe tbody tr th:only-of-type {\n",
              "        vertical-align: middle;\n",
              "    }\n",
              "\n",
              "    .dataframe tbody tr th {\n",
              "        vertical-align: top;\n",
              "    }\n",
              "\n",
              "    .dataframe thead th {\n",
              "        text-align: right;\n",
              "    }\n",
              "</style>\n",
              "<table border=\"1\" class=\"dataframe\">\n",
              "  <thead>\n",
              "    <tr style=\"text-align: right;\">\n",
              "      <th></th>\n",
              "      <th>userID</th>\n",
              "      <th>placeID</th>\n",
              "      <th>rating</th>\n",
              "      <th>food_rating</th>\n",
              "      <th>service_rating</th>\n",
              "    </tr>\n",
              "  </thead>\n",
              "  <tbody>\n",
              "    <tr>\n",
              "      <th>0</th>\n",
              "      <td>U1077</td>\n",
              "      <td>135085</td>\n",
              "      <td>2</td>\n",
              "      <td>2</td>\n",
              "      <td>2</td>\n",
              "    </tr>\n",
              "    <tr>\n",
              "      <th>1</th>\n",
              "      <td>U1077</td>\n",
              "      <td>135038</td>\n",
              "      <td>2</td>\n",
              "      <td>2</td>\n",
              "      <td>1</td>\n",
              "    </tr>\n",
              "    <tr>\n",
              "      <th>2</th>\n",
              "      <td>U1077</td>\n",
              "      <td>132825</td>\n",
              "      <td>2</td>\n",
              "      <td>2</td>\n",
              "      <td>2</td>\n",
              "    </tr>\n",
              "  </tbody>\n",
              "</table>\n",
              "</div>"
            ],
            "text/plain": [
              "  userID  placeID  rating  food_rating  service_rating\n",
              "0  U1077   135085       2            2               2\n",
              "1  U1077   135038       2            2               1\n",
              "2  U1077   132825       2            2               2"
            ]
          },
          "execution_count": 7,
          "metadata": {},
          "output_type": "execute_result"
        }
      ],
      "source": [
        "# Al momento tenemos los siguientes DataFrames. Del primer archivo\n",
        "# tenemos la evaluación general, la de la comida y la del servicio:\n",
        "\n",
        "data_rating.head(3)"
      ]
    },
    {
      "cell_type": "code",
      "execution_count": 8,
      "metadata": {
        "id": "y1n23keFiUQg"
      },
      "outputs": [
        {
          "data": {
            "text/html": [
              "<div>\n",
              "<style scoped>\n",
              "    .dataframe tbody tr th:only-of-type {\n",
              "        vertical-align: middle;\n",
              "    }\n",
              "\n",
              "    .dataframe tbody tr th {\n",
              "        vertical-align: top;\n",
              "    }\n",
              "\n",
              "    .dataframe thead th {\n",
              "        text-align: right;\n",
              "    }\n",
              "</style>\n",
              "<table border=\"1\" class=\"dataframe\">\n",
              "  <thead>\n",
              "    <tr style=\"text-align: right;\">\n",
              "      <th></th>\n",
              "      <th>0</th>\n",
              "      <th>1</th>\n",
              "    </tr>\n",
              "  </thead>\n",
              "  <tbody>\n",
              "    <tr>\n",
              "      <th>placeID</th>\n",
              "      <td>134999</td>\n",
              "      <td>132825</td>\n",
              "    </tr>\n",
              "    <tr>\n",
              "      <th>latitude</th>\n",
              "      <td>18.915421</td>\n",
              "      <td>22.147392</td>\n",
              "    </tr>\n",
              "    <tr>\n",
              "      <th>longitude</th>\n",
              "      <td>-99.184871</td>\n",
              "      <td>-100.983092</td>\n",
              "    </tr>\n",
              "    <tr>\n",
              "      <th>the_geom_meter</th>\n",
              "      <td>0101000020957F000088568DE356715AC138C0A525FC46...</td>\n",
              "      <td>0101000020957F00001AD016568C4858C1243261274BA5...</td>\n",
              "    </tr>\n",
              "    <tr>\n",
              "      <th>name</th>\n",
              "      <td>Kiku Cuernavaca</td>\n",
              "      <td>puesto de tacos</td>\n",
              "    </tr>\n",
              "    <tr>\n",
              "      <th>address</th>\n",
              "      <td>Revolucion</td>\n",
              "      <td>esquina santos degollado y leon guzman</td>\n",
              "    </tr>\n",
              "    <tr>\n",
              "      <th>city</th>\n",
              "      <td>Cuernavaca</td>\n",
              "      <td>s.l.p.</td>\n",
              "    </tr>\n",
              "    <tr>\n",
              "      <th>state</th>\n",
              "      <td>Morelos</td>\n",
              "      <td>s.l.p.</td>\n",
              "    </tr>\n",
              "    <tr>\n",
              "      <th>country</th>\n",
              "      <td>Mexico</td>\n",
              "      <td>mexico</td>\n",
              "    </tr>\n",
              "    <tr>\n",
              "      <th>fax</th>\n",
              "      <td>?</td>\n",
              "      <td>?</td>\n",
              "    </tr>\n",
              "    <tr>\n",
              "      <th>zip</th>\n",
              "      <td>?</td>\n",
              "      <td>78280</td>\n",
              "    </tr>\n",
              "    <tr>\n",
              "      <th>alcohol</th>\n",
              "      <td>No_Alcohol_Served</td>\n",
              "      <td>No_Alcohol_Served</td>\n",
              "    </tr>\n",
              "    <tr>\n",
              "      <th>smoking_area</th>\n",
              "      <td>none</td>\n",
              "      <td>none</td>\n",
              "    </tr>\n",
              "    <tr>\n",
              "      <th>dress_code</th>\n",
              "      <td>informal</td>\n",
              "      <td>informal</td>\n",
              "    </tr>\n",
              "    <tr>\n",
              "      <th>accessibility</th>\n",
              "      <td>no_accessibility</td>\n",
              "      <td>completely</td>\n",
              "    </tr>\n",
              "    <tr>\n",
              "      <th>price</th>\n",
              "      <td>medium</td>\n",
              "      <td>low</td>\n",
              "    </tr>\n",
              "    <tr>\n",
              "      <th>url</th>\n",
              "      <td>kikucuernavaca.com.mx</td>\n",
              "      <td>?</td>\n",
              "    </tr>\n",
              "    <tr>\n",
              "      <th>Rambience</th>\n",
              "      <td>familiar</td>\n",
              "      <td>familiar</td>\n",
              "    </tr>\n",
              "    <tr>\n",
              "      <th>franchise</th>\n",
              "      <td>f</td>\n",
              "      <td>f</td>\n",
              "    </tr>\n",
              "    <tr>\n",
              "      <th>area</th>\n",
              "      <td>closed</td>\n",
              "      <td>open</td>\n",
              "    </tr>\n",
              "    <tr>\n",
              "      <th>other_services</th>\n",
              "      <td>none</td>\n",
              "      <td>none</td>\n",
              "    </tr>\n",
              "  </tbody>\n",
              "</table>\n",
              "</div>"
            ],
            "text/plain": [
              "                                                                0  \\\n",
              "placeID                                                    134999   \n",
              "latitude                                                18.915421   \n",
              "longitude                                              -99.184871   \n",
              "the_geom_meter  0101000020957F000088568DE356715AC138C0A525FC46...   \n",
              "name                                              Kiku Cuernavaca   \n",
              "address                                                Revolucion   \n",
              "city                                                   Cuernavaca   \n",
              "state                                                     Morelos   \n",
              "country                                                    Mexico   \n",
              "fax                                                             ?   \n",
              "zip                                                             ?   \n",
              "alcohol                                         No_Alcohol_Served   \n",
              "smoking_area                                                 none   \n",
              "dress_code                                               informal   \n",
              "accessibility                                    no_accessibility   \n",
              "price                                                      medium   \n",
              "url                                         kikucuernavaca.com.mx   \n",
              "Rambience                                                familiar   \n",
              "franchise                                                       f   \n",
              "area                                                       closed   \n",
              "other_services                                               none   \n",
              "\n",
              "                                                                1  \n",
              "placeID                                                    132825  \n",
              "latitude                                                22.147392  \n",
              "longitude                                             -100.983092  \n",
              "the_geom_meter  0101000020957F00001AD016568C4858C1243261274BA5...  \n",
              "name                                              puesto de tacos  \n",
              "address                    esquina santos degollado y leon guzman  \n",
              "city                                                       s.l.p.  \n",
              "state                                                      s.l.p.  \n",
              "country                                                    mexico  \n",
              "fax                                                             ?  \n",
              "zip                                                         78280  \n",
              "alcohol                                         No_Alcohol_Served  \n",
              "smoking_area                                                 none  \n",
              "dress_code                                               informal  \n",
              "accessibility                                          completely  \n",
              "price                                                         low  \n",
              "url                                                             ?  \n",
              "Rambience                                                familiar  \n",
              "franchise                                                       f  \n",
              "area                                                         open  \n",
              "other_services                                               none  "
            ]
          },
          "execution_count": 8,
          "metadata": {},
          "output_type": "execute_result"
        }
      ],
      "source": [
        "# Y del segundo archivo obtenemos información diversa de cada restaurante:\n",
        "\n",
        "data_geo.head(2).T"
      ]
    },
    {
      "cell_type": "markdown",
      "metadata": {
        "id": "f4b6eQ-VFGQS"
      },
      "source": [
        "De cada uno de estos archivos selecciona y combina las variables adecuadas para obtener un nuevo DataFrame cuyas columnas sean el ID de usuario (userID), el ID del restaurante (placeID), la calificación general (rating) y el nombre del restaurante (name). A este nuevo DataFrame llamarlo df_combinado."
      ]
    },
    {
      "cell_type": "code",
      "execution_count": 9,
      "metadata": {},
      "outputs": [
        {
          "name": "stdout",
          "output_type": "stream",
          "text": [
            "(1161, 4)\n"
          ]
        },
        {
          "data": {
            "text/html": [
              "<div>\n",
              "<style scoped>\n",
              "    .dataframe tbody tr th:only-of-type {\n",
              "        vertical-align: middle;\n",
              "    }\n",
              "\n",
              "    .dataframe tbody tr th {\n",
              "        vertical-align: top;\n",
              "    }\n",
              "\n",
              "    .dataframe thead th {\n",
              "        text-align: right;\n",
              "    }\n",
              "</style>\n",
              "<table border=\"1\" class=\"dataframe\">\n",
              "  <thead>\n",
              "    <tr style=\"text-align: right;\">\n",
              "      <th></th>\n",
              "      <th>userID</th>\n",
              "      <th>placeID</th>\n",
              "      <th>rating</th>\n",
              "      <th>name</th>\n",
              "    </tr>\n",
              "  </thead>\n",
              "  <tbody>\n",
              "    <tr>\n",
              "      <th>0</th>\n",
              "      <td>U1077</td>\n",
              "      <td>135085</td>\n",
              "      <td>2</td>\n",
              "      <td>Tortas Locas Hipocampo</td>\n",
              "    </tr>\n",
              "    <tr>\n",
              "      <th>1</th>\n",
              "      <td>U1077</td>\n",
              "      <td>135038</td>\n",
              "      <td>2</td>\n",
              "      <td>Restaurant la Chalita</td>\n",
              "    </tr>\n",
              "    <tr>\n",
              "      <th>2</th>\n",
              "      <td>U1077</td>\n",
              "      <td>132825</td>\n",
              "      <td>2</td>\n",
              "      <td>puesto de tacos</td>\n",
              "    </tr>\n",
              "    <tr>\n",
              "      <th>3</th>\n",
              "      <td>U1077</td>\n",
              "      <td>135060</td>\n",
              "      <td>1</td>\n",
              "      <td>Restaurante Marisco Sam</td>\n",
              "    </tr>\n",
              "    <tr>\n",
              "      <th>4</th>\n",
              "      <td>U1068</td>\n",
              "      <td>135104</td>\n",
              "      <td>1</td>\n",
              "      <td>vips</td>\n",
              "    </tr>\n",
              "  </tbody>\n",
              "</table>\n",
              "</div>"
            ],
            "text/plain": [
              "  userID  placeID  rating                     name\n",
              "0  U1077   135085       2   Tortas Locas Hipocampo\n",
              "1  U1077   135038       2    Restaurant la Chalita\n",
              "2  U1077   132825       2          puesto de tacos\n",
              "3  U1077   135060       1  Restaurante Marisco Sam\n",
              "4  U1068   135104       1                     vips"
            ]
          },
          "execution_count": 9,
          "metadata": {},
          "output_type": "execute_result"
        }
      ],
      "source": [
        "# Verificamos que 'placeID' está presente en ambos DataFrames antes del merge\n",
        "assert 'placeID' in data_rating.columns, \"Error: 'placeID' no está en data_rating\"\n",
        "assert 'placeID' in data_geo.columns, \"Error: 'placeID' no está en data_geo\"\n",
        "assert 'name' in data_geo.columns, \"Error: 'name' no está en data_geo\"\n",
        "\n",
        "# Realizamos el merge entre data_rating y data_geo usando 'placeID'\n",
        "df_combinado = data_rating.merge(data_geo[['placeID', 'name']], on='placeID', how='left')\n",
        "\n",
        "# Seleccionamos solo las columnas requeridas\n",
        "df_combinado = df_combinado[['userID', 'placeID', 'rating', 'name']]\n",
        "\n",
        "# Mostramos la dimensión y las primeras filas del DataFrame resultante\n",
        "print(df_combinado.shape)\n",
        "df_combinado.head()\n"
      ]
    },
    {
      "cell_type": "markdown",
      "metadata": {
        "id": "2EyK_O7EHBWe"
      },
      "source": [
        "### **Ejercicio 4**"
      ]
    },
    {
      "cell_type": "code",
      "execution_count": 10,
      "metadata": {
        "id": "p6J7eDI-oTeH"
      },
      "outputs": [
        {
          "name": "stdout",
          "output_type": "stream",
          "text": [
            "Dimensión de la matriz de Utilidad:\n",
            "(restaurantes, usuarios) = (130, 138)\n"
          ]
        },
        {
          "data": {
            "text/html": [
              "<div>\n",
              "<style scoped>\n",
              "    .dataframe tbody tr th:only-of-type {\n",
              "        vertical-align: middle;\n",
              "    }\n",
              "\n",
              "    .dataframe tbody tr th {\n",
              "        vertical-align: top;\n",
              "    }\n",
              "\n",
              "    .dataframe thead th {\n",
              "        text-align: right;\n",
              "    }\n",
              "</style>\n",
              "<table border=\"1\" class=\"dataframe\">\n",
              "  <thead>\n",
              "    <tr style=\"text-align: right;\">\n",
              "      <th>userID</th>\n",
              "      <th>U1001</th>\n",
              "      <th>U1002</th>\n",
              "      <th>U1003</th>\n",
              "      <th>U1004</th>\n",
              "      <th>U1005</th>\n",
              "      <th>U1006</th>\n",
              "      <th>U1007</th>\n",
              "      <th>U1008</th>\n",
              "      <th>U1009</th>\n",
              "      <th>U1010</th>\n",
              "      <th>...</th>\n",
              "      <th>U1129</th>\n",
              "      <th>U1130</th>\n",
              "      <th>U1131</th>\n",
              "      <th>U1132</th>\n",
              "      <th>U1133</th>\n",
              "      <th>U1134</th>\n",
              "      <th>U1135</th>\n",
              "      <th>U1136</th>\n",
              "      <th>U1137</th>\n",
              "      <th>U1138</th>\n",
              "    </tr>\n",
              "    <tr>\n",
              "      <th>name</th>\n",
              "      <th></th>\n",
              "      <th></th>\n",
              "      <th></th>\n",
              "      <th></th>\n",
              "      <th></th>\n",
              "      <th></th>\n",
              "      <th></th>\n",
              "      <th></th>\n",
              "      <th></th>\n",
              "      <th></th>\n",
              "      <th></th>\n",
              "      <th></th>\n",
              "      <th></th>\n",
              "      <th></th>\n",
              "      <th></th>\n",
              "      <th></th>\n",
              "      <th></th>\n",
              "      <th></th>\n",
              "      <th></th>\n",
              "      <th></th>\n",
              "      <th></th>\n",
              "    </tr>\n",
              "  </thead>\n",
              "  <tbody>\n",
              "    <tr>\n",
              "      <th>Abondance Restaurante Bar</th>\n",
              "      <td>NaN</td>\n",
              "      <td>NaN</td>\n",
              "      <td>NaN</td>\n",
              "      <td>NaN</td>\n",
              "      <td>NaN</td>\n",
              "      <td>NaN</td>\n",
              "      <td>NaN</td>\n",
              "      <td>1.0</td>\n",
              "      <td>NaN</td>\n",
              "      <td>NaN</td>\n",
              "      <td>...</td>\n",
              "      <td>NaN</td>\n",
              "      <td>NaN</td>\n",
              "      <td>NaN</td>\n",
              "      <td>NaN</td>\n",
              "      <td>NaN</td>\n",
              "      <td>NaN</td>\n",
              "      <td>NaN</td>\n",
              "      <td>NaN</td>\n",
              "      <td>NaN</td>\n",
              "      <td>NaN</td>\n",
              "    </tr>\n",
              "    <tr>\n",
              "      <th>Arrachela Grill</th>\n",
              "      <td>NaN</td>\n",
              "      <td>NaN</td>\n",
              "      <td>NaN</td>\n",
              "      <td>NaN</td>\n",
              "      <td>NaN</td>\n",
              "      <td>NaN</td>\n",
              "      <td>NaN</td>\n",
              "      <td>NaN</td>\n",
              "      <td>NaN</td>\n",
              "      <td>NaN</td>\n",
              "      <td>...</td>\n",
              "      <td>NaN</td>\n",
              "      <td>NaN</td>\n",
              "      <td>NaN</td>\n",
              "      <td>NaN</td>\n",
              "      <td>NaN</td>\n",
              "      <td>NaN</td>\n",
              "      <td>NaN</td>\n",
              "      <td>NaN</td>\n",
              "      <td>NaN</td>\n",
              "      <td>NaN</td>\n",
              "    </tr>\n",
              "    <tr>\n",
              "      <th>Cabana Huasteca</th>\n",
              "      <td>NaN</td>\n",
              "      <td>NaN</td>\n",
              "      <td>2.0</td>\n",
              "      <td>NaN</td>\n",
              "      <td>NaN</td>\n",
              "      <td>NaN</td>\n",
              "      <td>NaN</td>\n",
              "      <td>NaN</td>\n",
              "      <td>1.0</td>\n",
              "      <td>NaN</td>\n",
              "      <td>...</td>\n",
              "      <td>NaN</td>\n",
              "      <td>NaN</td>\n",
              "      <td>NaN</td>\n",
              "      <td>NaN</td>\n",
              "      <td>NaN</td>\n",
              "      <td>2.0</td>\n",
              "      <td>NaN</td>\n",
              "      <td>NaN</td>\n",
              "      <td>NaN</td>\n",
              "      <td>NaN</td>\n",
              "    </tr>\n",
              "    <tr>\n",
              "      <th>Cafe Chaires</th>\n",
              "      <td>NaN</td>\n",
              "      <td>NaN</td>\n",
              "      <td>NaN</td>\n",
              "      <td>NaN</td>\n",
              "      <td>NaN</td>\n",
              "      <td>1.0</td>\n",
              "      <td>1.0</td>\n",
              "      <td>NaN</td>\n",
              "      <td>NaN</td>\n",
              "      <td>NaN</td>\n",
              "      <td>...</td>\n",
              "      <td>NaN</td>\n",
              "      <td>NaN</td>\n",
              "      <td>NaN</td>\n",
              "      <td>NaN</td>\n",
              "      <td>NaN</td>\n",
              "      <td>0.0</td>\n",
              "      <td>NaN</td>\n",
              "      <td>NaN</td>\n",
              "      <td>NaN</td>\n",
              "      <td>NaN</td>\n",
              "    </tr>\n",
              "    <tr>\n",
              "      <th>Cafeteria cenidet</th>\n",
              "      <td>NaN</td>\n",
              "      <td>NaN</td>\n",
              "      <td>NaN</td>\n",
              "      <td>NaN</td>\n",
              "      <td>NaN</td>\n",
              "      <td>NaN</td>\n",
              "      <td>NaN</td>\n",
              "      <td>NaN</td>\n",
              "      <td>NaN</td>\n",
              "      <td>NaN</td>\n",
              "      <td>...</td>\n",
              "      <td>NaN</td>\n",
              "      <td>NaN</td>\n",
              "      <td>NaN</td>\n",
              "      <td>NaN</td>\n",
              "      <td>NaN</td>\n",
              "      <td>NaN</td>\n",
              "      <td>NaN</td>\n",
              "      <td>NaN</td>\n",
              "      <td>NaN</td>\n",
              "      <td>NaN</td>\n",
              "    </tr>\n",
              "  </tbody>\n",
              "</table>\n",
              "<p>5 rows × 138 columns</p>\n",
              "</div>"
            ],
            "text/plain": [
              "userID                     U1001  U1002  U1003  U1004  U1005  U1006  U1007  \\\n",
              "name                                                                         \n",
              "Abondance Restaurante Bar    NaN    NaN    NaN    NaN    NaN    NaN    NaN   \n",
              "Arrachela Grill              NaN    NaN    NaN    NaN    NaN    NaN    NaN   \n",
              "Cabana Huasteca              NaN    NaN    2.0    NaN    NaN    NaN    NaN   \n",
              "Cafe Chaires                 NaN    NaN    NaN    NaN    NaN    1.0    1.0   \n",
              "Cafeteria cenidet            NaN    NaN    NaN    NaN    NaN    NaN    NaN   \n",
              "\n",
              "userID                     U1008  U1009  U1010  ...  U1129  U1130  U1131  \\\n",
              "name                                            ...                        \n",
              "Abondance Restaurante Bar    1.0    NaN    NaN  ...    NaN    NaN    NaN   \n",
              "Arrachela Grill              NaN    NaN    NaN  ...    NaN    NaN    NaN   \n",
              "Cabana Huasteca              NaN    1.0    NaN  ...    NaN    NaN    NaN   \n",
              "Cafe Chaires                 NaN    NaN    NaN  ...    NaN    NaN    NaN   \n",
              "Cafeteria cenidet            NaN    NaN    NaN  ...    NaN    NaN    NaN   \n",
              "\n",
              "userID                     U1132  U1133  U1134  U1135  U1136  U1137  U1138  \n",
              "name                                                                        \n",
              "Abondance Restaurante Bar    NaN    NaN    NaN    NaN    NaN    NaN    NaN  \n",
              "Arrachela Grill              NaN    NaN    NaN    NaN    NaN    NaN    NaN  \n",
              "Cabana Huasteca              NaN    NaN    2.0    NaN    NaN    NaN    NaN  \n",
              "Cafe Chaires                 NaN    NaN    0.0    NaN    NaN    NaN    NaN  \n",
              "Cafeteria cenidet            NaN    NaN    NaN    NaN    NaN    NaN    NaN  \n",
              "\n",
              "[5 rows x 138 columns]"
            ]
          },
          "execution_count": 10,
          "metadata": {},
          "output_type": "execute_result"
        }
      ],
      "source": [
        "# Creamos la matriz de utilidad usando pivot_table\n",
        "UtMx_rating = df_combinado.pivot_table(index='name', columns='userID', values='rating', aggfunc='mean')\n",
        "\n",
        "# Mostramos la dimensión de la matriz\n",
        "print('Dimensión de la matriz de Utilidad:')\n",
        "print('(restaurantes, usuarios) =', UtMx_rating.shape)\n",
        "\n",
        "# Mostramos los primeros registros de la matriz de utilidad\n",
        "UtMx_rating.head()"
      ]
    },
    {
      "cell_type": "markdown",
      "metadata": {
        "id": "ai8oUVF5RhkK"
      },
      "source": [
        "Similaridades con la matriz obtenida de la Factorización SVD Truncada:"
      ]
    },
    {
      "cell_type": "markdown",
      "metadata": {
        "id": "xGu3qv-T8XGH"
      },
      "source": [
        "* Aplicaremo la Factorización SVD con los 66 primeros valores singulares a la matriz de utilidad UtMx_rating.\n",
        "\n",
        "* El valor de 66 se seleccionó porque como verás, esta cantidad de valores singulares es suficiente para describir al menos el 95% de la varianza de la matriz de utilidad\n",
        "\n",
        "* Recordemos que la factorización SVD de una matriz $A$ tiene la forma: $A_{m\\times n} = U_{m\\times m}\\Sigma_{m\\times n}V_{n\\times n}^T$\n",
        "\n",
        "* Usaremos la función coseno como medida de similaridad\n",
        "\n",
        "* Buscaremos restaurantes similares al llamado  \"tacos de barbacoa enfrente del Tec\""
      ]
    },
    {
      "cell_type": "code",
      "execution_count": 11,
      "metadata": {},
      "outputs": [
        {
          "name": "stdout",
          "output_type": "stream",
          "text": [
            "Dimensión Vectores latentes restaurantes: (130, 66)\n",
            "Dimensión Traspuesta Vectores latentes usuarios: (66, 138)\n",
            "\n",
            "Variabilidad acumulada de las componentes utilizadas: 0.952\n",
            "\n",
            "Total de similaridades positivas encontradas: 75\n",
            "\n",
            "Mejores recomendaciones con base en el restaurante: \"tacos de barbacoa enfrente del Tec\":\n",
            "vips: Similaridad 0.937\n",
            "little pizza Emilio Portes Gil: Similaridad 0.934\n",
            "tacos abi: Similaridad 0.927\n",
            "Carreton de Flautas y Migadas: Similaridad 0.530\n",
            "puesto de gorditas: Similaridad 0.498\n",
            "Taqueria EL amigo : Similaridad 0.478\n",
            "carnitas_mata: Similaridad 0.364\n",
            "Little Cesarz: Similaridad 0.262\n",
            "Gorditas Dona Tota 2: Similaridad 0.233\n",
            "carnitas mata calle Emilio Portes Gil: Similaridad 0.184\n"
          ]
        }
      ],
      "source": [
        "# Definimos el número de componentes principales\n",
        "num_componentes = 66  \n",
        "\n",
        "# Aplicamos SVD truncada a la matriz de utilidad\n",
        "SVD_rating = TruncatedSVD(n_components=num_componentes)  \n",
        "mat_fact_lat_restaurantes = SVD_rating.fit_transform(UtMx_rating.fillna(0))  # Reemplazamos NaN con 0\n",
        "\n",
        "# Mostramos las dimensiones obtenidas\n",
        "print('Dimensión Vectores latentes restaurantes:', mat_fact_lat_restaurantes.shape)\n",
        "print('Dimensión Traspuesta Vectores latentes usuarios:', SVD_rating.components_.shape)\n",
        "\n",
        "# Calculamos la variabilidad acumulada de las componentes utilizadas\n",
        "variabilidad_acumulada = SVD_rating.explained_variance_ratio_.sum()\n",
        "print('\\nVariabilidad acumulada de las componentes utilizadas: %.3f' % variabilidad_acumulada)\n",
        "\n",
        "# Calculamos la matriz de similaridad del coseno\n",
        "sim_matrix = cosine_similarity(mat_fact_lat_restaurantes)\n",
        "\n",
        "# Restaurante de referencia\n",
        "restaurante_de_referencia = \"tacos de barbacoa enfrente del Tec\"\n",
        "\n",
        "# Obtenemos la lista de nombres de restaurantes\n",
        "nombres_rest = UtMx_rating.index  # Usamos los índices que contienen los nombres de los restaurantes\n",
        "\n",
        "# Verificamos si el restaurante de referencia está en la lista\n",
        "if restaurante_de_referencia not in nombres_rest:\n",
        "    raise ValueError(f'El restaurante \"{restaurante_de_referencia}\" no se encuentra en la matriz de utilidad.')\n",
        "\n",
        "# Índice del restaurante de referencia\n",
        "idx_rest = list(nombres_rest).index(restaurante_de_referencia)\n",
        "\n",
        "# Vector de similaridad del restaurante de referencia contra todos los demás\n",
        "sim_vector = sim_matrix[idx_rest]\n",
        "\n",
        "# Filtramos las similaridades positivas\n",
        "mejores_sim_rate = [(sim_vector[i], nombres_rest[i]) for i in range(len(nombres_rest)) if sim_vector[i] > 0]\n",
        "\n",
        "print('\\nTotal de similaridades positivas encontradas:', len(mejores_sim_rate))\n",
        "\n",
        "# Ordenamos las similaridades de mayor a menor\n",
        "mejores_sim_rate_ordenadas = sorted(mejores_sim_rate, key=lambda x: x[0], reverse=True)\n",
        "\n",
        "# Mostramos las 10 mejores recomendaciones (omitimos el primero que es el restaurante de referencia)\n",
        "print('\\nMejores recomendaciones con base en el restaurante: \"%s\":' % restaurante_de_referencia)\n",
        "for score, nombre in mejores_sim_rate_ordenadas[1:11]:\n",
        "    print(f\"{nombre}: Similaridad {score:.3f}\")"
      ]
    },
    {
      "cell_type": "markdown",
      "metadata": {},
      "source": [
        "La factorización SVD truncada ha funcionado correctamente, logrando capturar el 95.2% de la varianza con 66 componentes. \n",
        "\n",
        "- Alta Similaridad con \"vips\" y \"little pizza Emilio Portes Gil\" (≥0.93), puede deberse a preferencias compartidas en comida rápida o cadenas populares. Los usuarios que calificaron \"tacos de barbacoa enfrente del Tec\" también calificaron de manera similar a estos restaurantes.\n",
        "- Otros restaurantes de tacos con alta similaridad (≥0.92): \"tacos abi\", \"Carreton de Flautas y Migadas\" y \"puesto de gorditas\" muestran cierta afinidad con el restaurante de referencia."
      ]
    },
    {
      "cell_type": "markdown",
      "metadata": {
        "id": "PACH7ewoQTqB"
      },
      "source": [
        "### **Ejercicio 5**"
      ]
    },
    {
      "cell_type": "markdown",
      "metadata": {
        "id": "Zl8QhjWB9zDu"
      },
      "source": [
        "**Sistema Híbrido**\n",
        "\n",
        "Utilicemos ahora un sistema híbrido, el cual consistirá en conjuntar la matriz de \"factores_latentes_restaurantes\" (que es un ndarray) obtenida previamente, con la matriz de factores adicionales (que también será un ndarray) formada por las columnas One-Hot-Encoder de los factores 'dress_code', 'accessibility', 'price' y 'franchise' del DataFrame data_geo.\n",
        "\n",
        "Por el momento no requerimos que la matriz híbrida sea un DataFrame, con que sea un arreglo de NumPy, ndarray, será suficiente.\n",
        "\n",
        "Los renglones de la matriz híbrida siguen representando a cada restaurante, pero ahora con la información de los vectores latentes de la factorización SVD, más los vectores OneHotEncoding de los nuevos factores que se incluyeron."
      ]
    },
    {
      "cell_type": "code",
      "execution_count": 14,
      "metadata": {
        "id": "Qt3Oh45lpHp1"
      },
      "outputs": [
        {
          "name": "stdout",
          "output_type": "stream",
          "text": [
            "Dimensión de la matriz híbrida: (130, 73)\n"
          ]
        }
      ],
      "source": [
        "# 1. Seleccionar las columnas categóricas de interés del DataFrame data_geo\n",
        "df_fact_adicionales = data_geo[['dress_code', 'accessibility', 'price', 'franchise']]\n",
        "\n",
        "# 2. Aplicar OneHotEncoding a las columnas categóricas\n",
        "ohe = OneHotEncoder(sparse_output=False, drop='first')  # Usa sparse_output en lugar de sparse\n",
        "mat_fact_adicionales_ohe = ohe.fit_transform(df_fact_adicionales)\n",
        "\n",
        "# 3. Conjuntar horizontalmente la matriz de factores latentes con la matriz OHE\n",
        "matriz_hibrida = np.hstack((mat_fact_lat_restaurantes, mat_fact_adicionales_ohe))\n",
        "\n",
        "# 4. Mostrar la dimensión de la matriz híbrida\n",
        "print('Dimensión de la matriz híbrida:', matriz_hibrida.shape)\n"
      ]
    },
    {
      "cell_type": "code",
      "execution_count": 16,
      "metadata": {},
      "outputs": [
        {
          "name": "stdout",
          "output_type": "stream",
          "text": [
            "Restaurante de referencia: tacos de barbacoa enfrente del Tec\n",
            "Índice del restaurante de referencia: 111\n"
          ]
        }
      ],
      "source": [
        "# Restaurante de referencia\n",
        "restaurante_de_referencia = \"tacos de barbacoa enfrente del Tec\"\n",
        "\n",
        "# Buscar coincidencias exactas en data_geo\n",
        "coincidencias = data_geo[data_geo['name'].str.lower().str.strip() == restaurante_de_referencia.lower().strip()]\n",
        "\n",
        "# Verificar si hay al menos un resultado antes de acceder al índice\n",
        "if not coincidencias.empty:\n",
        "    idx = coincidencias.index[0]\n",
        "    print('Restaurante de referencia:', restaurante_de_referencia)\n",
        "    print('Índice del restaurante de referencia:', idx)\n",
        "else:\n",
        "    print(f'Error: El restaurante \"{restaurante_de_referencia}\" no se encontró en data_geo.')"
      ]
    },
    {
      "cell_type": "markdown",
      "metadata": {
        "id": "ML52GNI3xCbV"
      },
      "source": [
        "### **Ejercicio 6:**"
      ]
    },
    {
      "cell_type": "markdown",
      "metadata": {
        "id": "gvBn_7NkyiBi"
      },
      "source": [
        "Una vez que tenemos la matriz híbrida, con dicha matriz deberás obtener las similitudes (con respecto a la función coseno) del restaurante de referencia con relación a todos los restaurantes, ordenarlos de mayor a menor con respecto a la similitud del coseno y desplegar los primeros 10 de mayor similitud (sin incluir al restaurante de referencia mismo)."
      ]
    },
    {
      "cell_type": "code",
      "execution_count": 17,
      "metadata": {},
      "outputs": [
        {
          "name": "stdout",
          "output_type": "stream",
          "text": [
            "\n",
            "Top 10 restaurantes similares a \"tacos de barbacoa enfrente del Tec\":\n",
            "1. Arrachela Grill: Similaridad 0.453\n",
            "2. Pizzeria Julios: Similaridad 0.427\n",
            "3. palomo tec: Similaridad 0.408\n",
            "4. Gorditas Dona Tota 2: Similaridad 0.395\n",
            "5. tortas hawai: Similaridad 0.383\n",
            "6. TACOS CORRECAMINOS: Similaridad 0.382\n",
            "7. Vips: Similaridad 0.359\n",
            "8. Tortas y hamburguesas el gordo: Similaridad 0.356\n",
            "9. Michiko Restaurant Japones: Similaridad 0.330\n",
            "10. el lechon potosino : Similaridad 0.322\n"
          ]
        }
      ],
      "source": [
        "# Calcular la matriz de similitud del coseno para la matriz híbrida\n",
        "sim_matrix_hibrida = cosine_similarity(matriz_hibrida)\n",
        "\n",
        "# Obtener el vector de similitudes del restaurante de referencia con todos los demás\n",
        "sim_vector = sim_matrix_hibrida[idx]\n",
        "\n",
        "# Crear una lista de (índice, similitud) excluyendo el propio restaurante de referencia\n",
        "similitudes = [(i, sim_vector[i]) for i in range(len(sim_vector)) if i != idx]\n",
        "\n",
        "# Ordenar las similitudes de mayor a menor\n",
        "similitudes_ordenadas = sorted(similitudes, key=lambda x: x[1], reverse=True)\n",
        "\n",
        "# Mostrar los 10 restaurantes más similares\n",
        "print(f'\\nTop 10 restaurantes similares a \"{restaurante_de_referencia}\":')\n",
        "for i, (indice, sim) in enumerate(similitudes_ordenadas[:10], 1):\n",
        "    print(f\"{i}. {data_geo.loc[indice, 'name']}: Similaridad {sim:.3f}\")"
      ]
    },
    {
      "cell_type": "markdown",
      "metadata": {
        "id": "ZJvi3WLR0zKY"
      },
      "source": [
        "### **Ejercicio 7**"
      ]
    },
    {
      "cell_type": "markdown",
      "metadata": {
        "id": "IAPKgBzD14By"
      },
      "source": [
        "Incluye tus comentarios y conclusiones de la actividad. En particular comenta las diferencias que encuentras entre un sistema de recomendación basado solamente en la factorización SVD y uno híbrido."
      ]
    },
    {
      "cell_type": "markdown",
      "metadata": {
        "id": "vtOMmDZeBBwg"
      },
      "source": [
        "## Comentarios y Conclusiones\n",
        "\n",
        "En esta actividad, implementamos dos sistemas de recomendación para encontrar restaurantes similares: uno basado exclusivamente en la factorización SVD truncada y otro híbrido que combina esta técnica con características adicionales mediante One-Hot-Encoding.\n",
        "\n",
        "### Comparación entre SVD Truncada y el Sistema Híbrido\n",
        "\n",
        "1. **Factorización SVD Truncada**\n",
        "   - Permite reducir la dimensionalidad de la matriz de utilidad, capturando las relaciones latentes entre usuarios y restaurantes.\n",
        "   - Se basa exclusivamente en las calificaciones de los usuarios, lo que puede generar recomendaciones sesgadas si hay pocos datos o si algunos restaurantes tienen pocas evaluaciones.\n",
        "   - Es útil para encontrar similitudes implícitas en los patrones de calificación, pero no considera características específicas de los restaurantes.\n",
        "\n",
        "2. **Sistema Híbrido (SVD + One-Hot-Encoding)**\n",
        "   - Incorpora información adicional sobre los restaurantes, como el código de vestimenta, accesibilidad, precio y franquicia.\n",
        "   - Permite mejorar la recomendación al incluir factores objetivos que influyen en la decisión del usuario.\n",
        "   - Reduce la dependencia de las calificaciones de los usuarios, lo que puede ser beneficioso en escenarios donde los datos de evaluación son escasos.\n",
        "   - La combinación de vectores latentes con características explícitas puede generar recomendaciones más diversas y contextualizadas.\n",
        "\n",
        "### Diferencias Principales\n",
        "\n",
        "| Aspecto | SVD Truncada | Sistema Híbrido |\n",
        "|---------|-------------|-----------------|\n",
        "| Datos utilizados | Solo calificaciones de usuarios | Calificaciones + características del restaurante |\n",
        "| Dependencia de evaluaciones | Alta | Media |\n",
        "| Consideración de atributos explícitos | No | Sí |\n",
        "| Tipo de similitud | Implícita (basada en patrones de calificación) | Explícita e implícita |\n",
        "| Personalización | Depende solo del comportamiento de los usuarios | Mejora al incluir factores adicionales |\n",
        "\n",
        "### Conclusión\n",
        "\n",
        "La factorización SVD truncada es una técnica efectiva para sistemas de recomendación basados en filtrado colaborativo, pero puede verse limitada cuando los datos de calificación son insuficientes o sesgados. En cambio, un enfoque híbrido permite mejorar la precisión de las recomendaciones al combinar patrones de calificación con atributos específicos de los restaurantes, logrando un sistema más robusto y adaptable a diferentes escenarios.\n",
        "\n",
        "Para futuras mejoras, se podría experimentar con diferentes ponderaciones entre los vectores latentes y los factores adicionales, así como aplicar técnicas de optimización en la selección de características."
      ]
    },
    {
      "cell_type": "markdown",
      "metadata": {
        "id": "N2rZwkmlAofg"
      },
      "source": [
        ">> **Fin de la Actividad de Sistemas de Recomendación**"
      ]
    }
  ],
  "metadata": {
    "colab": {
      "collapsed_sections": [
        "9ejOXFX0wRbr",
        "DbEshKJnwPp3",
        "rr3hJTCW6c05",
        "2EyK_O7EHBWe",
        "PACH7ewoQTqB",
        "ML52GNI3xCbV",
        "ZJvi3WLR0zKY"
      ],
      "provenance": []
    },
    "kernelspec": {
      "display_name": "Python 3",
      "name": "python3"
    },
    "language_info": {
      "codemirror_mode": {
        "name": "ipython",
        "version": 3
      },
      "file_extension": ".py",
      "mimetype": "text/x-python",
      "name": "python",
      "nbconvert_exporter": "python",
      "pygments_lexer": "ipython3",
      "version": "3.9.6"
    }
  },
  "nbformat": 4,
  "nbformat_minor": 0
}
